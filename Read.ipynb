{
 "cells": [
  {
   "cell_type": "code",
   "execution_count": 1,
   "metadata": {
    "collapsed": false,
    "scrolled": true
   },
   "outputs": [],
   "source": [
    "import numpy as np\n",
    "import time\n",
    "import math\n",
    "import matplotlib.pyplot as plt\n",
    "import matplotlib as mpl\n",
    "from scipy import stats\n",
    "import pylab as pl\n",
    "import pylab\n",
    "from pylab import *\n",
    "from matplotlib import rc\n",
    "rc('font', **{'family': 'serif', 'serif': ['Computer Modern'], 'size': 12})\n",
    "rc('text', usetex=True)\n",
    "linecount = 512**3"
   ]
  },
  {
   "cell_type": "code",
   "execution_count": 2,
   "metadata": {
    "collapsed": true
   },
   "outputs": [],
   "source": [
    "def ToClass(X, NBIN, XMIN,XMAX):\n",
    "    labels = (np.array(X-XMIN)/(XMAX-XMIN)*NBIN).astype(int)\n",
    "    labels[labels < 0] = 0\n",
    "    labels[labels >= NBIN] = NBIN-1\n",
    "    return labels\n",
    "\n",
    "def ToDM(X,NBIN,XMIN,XMAX):\n",
    "    TEMP1 = (X*(XMAX-XMIN)/NBIN) + XMIN\n",
    "    return TEMP1"
   ]
  },
  {
   "cell_type": "code",
   "execution_count": 3,
   "metadata": {
    "collapsed": false
   },
   "outputs": [
    {
     "name": "stdout",
     "output_type": "stream",
     "text": [
      "--- 114.413760s: loaded ---\n"
     ]
    }
   ],
   "source": [
    "# ======================================== SAVE DELTAS_HALO =============================================================\n",
    "start_time = time.time()\n",
    "linecount = 512**3\n",
    "# pre-allocate array and load data into array\n",
    "delta_R = np.zeros(linecount, dtype= np.float16)\n",
    "with open('DELTA_R_01.txt','rb') as infile:\n",
    "    for i,line in enumerate(infile):\n",
    "        delta_R[i] = float(line)\n",
    "    \n",
    "print(\"--- %3fs: loaded ---\" % (time.time() - start_time))"
   ]
  },
  {
   "cell_type": "code",
   "execution_count": 4,
   "metadata": {
    "collapsed": false
   },
   "outputs": [
    {
     "name": "stdout",
     "output_type": "stream",
     "text": [
      "--- 115.786719s: loaded ---\n"
     ]
    }
   ],
   "source": [
    "# ======================================== SAVE DELTAS_DM ===============================================================\n",
    "start_time = time.time()\n",
    "# pre-allocate array and load data into array\n",
    "delta_J = np.zeros(linecount, dtype= np.float16)\n",
    "with open('DELTA_J_01.txt','rb') as infile:\n",
    "    for i,line in enumerate(infile):\n",
    "        delta_J[i] = float(line)\n",
    "    \n",
    "print(\"--- %3fs: loaded ---\" % (time.time() - start_time))"
   ]
  },
  {
   "cell_type": "code",
   "execution_count": 5,
   "metadata": {
    "collapsed": false
   },
   "outputs": [],
   "source": [
    "delta_J += 1.0\n",
    "delta_R += 1.0\n",
    "#delta_J_log = np.log10(delta_J)\n",
    "#delta_R_log = np.log10(delta_R)"
   ]
  },
  {
   "cell_type": "code",
   "execution_count": null,
   "metadata": {
    "collapsed": true
   },
   "outputs": [],
   "source": [
    "# Transformacion DM en clases\n",
    "def ToClass(X, NBIN, XMIN,XMAX):\n",
    "    \n",
    "    temp = (np.array(X-XMIN)/(XMAX-XMIN)*NBIN).astype(dtype=np.uint16)\n",
    "    temp[temp < 0] = 0\n",
    "    temp[temp >= NBIN] = NBIN-1\n",
    "    return temp\n",
    "\n",
    "# Transformacion clases a DM\n",
    "def ToDM(X,NBIN,XMIN,XMAX):\n",
    "    \n",
    "    TEMP1 = (X*(XMAX-XMIN)/NBIN) + XMIN\n",
    "    return TEMP1\n",
    "\n",
    "# Muestra uniforme de DM\n",
    "def Uniform_Sample (FLOATS, DM_data, F, POS):\n",
    "    \n",
    "    index = []\n",
    "    Sample = []\n",
    "    \n",
    "    for i, List in enumerate(zip(FLOATS, DM_data, POS)):\n",
    "        \n",
    "        r = (List[0] < F[i]) # ===================================== EXTRAER LAS POSICIONES DE ALGUNA MANERA \n",
    "        Sample.append((List[1])[r])\n",
    "        temp = np.array(List[2])\n",
    "        index.append(temp[r])\n",
    "        \n",
    "    return Sample, index  "
   ]
  },
  {
   "cell_type": "code",
   "execution_count": null,
   "metadata": {
    "collapsed": false,
    "scrolled": true
   },
   "outputs": [],
   "source": [
    "# Ubicar cada DM en un bin\n",
    "num_bins = int(raw_input(\"Num bins: \"))\n",
    "labels = ToClass(delta_J, num_bins,delta_J.min(),delta_J.max())\n",
    "#print delta_J[:10], labels[:10], len(delta_J), len(labels)"
   ]
  },
  {
   "cell_type": "code",
   "execution_count": null,
   "metadata": {
    "collapsed": false
   },
   "outputs": [],
   "source": [
    "minval = delta_J.min()\n",
    "maxval = delta_J.max()\n",
    "delta = (maxval - minval) / num_bins\n",
    "stop = int((20.0 - minval)/ delta  + 1 ) # Last bin of the sample"
   ]
  },
  {
   "cell_type": "code",
   "execution_count": null,
   "metadata": {
    "collapsed": true
   },
   "outputs": [],
   "source": [
    "random_values = np.random.rand(len(delta_J)).astype(dtype = np.float16) # Array de floats de largo 512^3  "
   ]
  },
  {
   "cell_type": "code",
   "execution_count": null,
   "metadata": {
    "collapsed": false
   },
   "outputs": [],
   "source": [
    "random_values_bins = [] \n",
    "DM_bins = []\n",
    "Positions = []\n",
    "for i in range(stop):\n",
    "    List = np.where(labels == i)[0]                 # Posiciones de los bins iguales al valor i\n",
    "    Positions.append(List)                          # Posiciones de los valores de DM correspondientes al bin i\n",
    "    random_values_bins.append(random_values[List])  # Floats correpondientes al bin i \n",
    "    DM_bins.append(delta_J[List])                   # Valores de DM correspondientes a las posiciones señaladas en List\n",
    "del(List)    "
   ]
  },
  {
   "cell_type": "code",
   "execution_count": null,
   "metadata": {
    "collapsed": false
   },
   "outputs": [],
   "source": [
    "N = np.zeros(stop)      # Array cuyas entradas son el número de datos que corresponden a labels == i\n",
    "Frac = np.zeros(stop)   # Array cuyas entradas son límites superiores para seleccionar un porcentaje de la muestra total correspondiente a labels==i\n",
    "\n",
    "for i in range(stop):\n",
    "    N[i] = len(np.where(labels == i)[0]) #/ ((maxval - minval)/num_bins)\n",
    "    if i == stop-1:\n",
    "        MAX = float(N[stop-1])\n",
    "        for j in range(stop):\n",
    "            Frac[j] = MAX/N[j]\n",
    "        "
   ]
  },
  {
   "cell_type": "code",
   "execution_count": null,
   "metadata": {
    "collapsed": false
   },
   "outputs": [],
   "source": [
    "DM_Sample, index =  Uniform_Sample(random_values_bins, DM_bins, Frac, Positions)"
   ]
  },
  {
   "cell_type": "code",
   "execution_count": null,
   "metadata": {
    "collapsed": true
   },
   "outputs": [],
   "source": [
    "del(random_values,N,Frac,labels)\n",
    "del random_values_bins[:]\n",
    "del DM_bins[:]"
   ]
  },
  {
   "cell_type": "code",
   "execution_count": 6,
   "metadata": {
    "collapsed": false
   },
   "outputs": [],
   "source": [
    "# 3D Arrays of zeros\n",
    "deltas_DM = np.zeros((512,512,512), dtype = np.float16)\n",
    "deltas_H = np.zeros((512,512,512), dtype = np.float16)"
   ]
  },
  {
   "cell_type": "code",
   "execution_count": 7,
   "metadata": {
    "collapsed": false
   },
   "outputs": [
    {
     "name": "stdout",
     "output_type": "stream",
     "text": [
      "--- 405.806110s: loaded ---\n"
     ]
    }
   ],
   "source": [
    "# Save all data in cubes of side 512\n",
    "start_time = time.time()\n",
    "for m in xrange(0,512**3):\n",
    "    deltas_H[m % 512][(m/512) % 512][(m/512)/512] = delta_R[m] # Deltas Halo\n",
    "    deltas_DM[m % 512][(m/512) % 512][(m/512)/512] = delta_J[m] # Deltas Dark Matter\n",
    "    \n",
    "del(delta_R)\n",
    "del(delta_J)\n",
    "print(\"--- %3fs: loaded ---\" % (time.time() - start_time)) "
   ]
  },
  {
   "cell_type": "code",
   "execution_count": null,
   "metadata": {
    "collapsed": false,
    "scrolled": false
   },
   "outputs": [],
   "source": [
    "count = 0\n",
    "for i in range(stop):\n",
    "    for k in range(len(index[i])):\n",
    "        count += 1\n",
    "         \n",
    "grid_position = np.zeros((count,3), dtype = np.uint16)\n",
    "            \n",
    "count2 = 0    \n",
    "for i in range(stop):\n",
    "    for j in range(len(index[i])):\n",
    "        \n",
    "        t = index[i][j]\n",
    "        x,y,z = t%512, (t/512)%512, (t/512)/512\n",
    "        grid_position[count2] = np.array([x,y,z])\n",
    "        count2 += 1\n",
    "    \n",
    "    "
   ]
  },
  {
   "cell_type": "code",
   "execution_count": null,
   "metadata": {
    "collapsed": true
   },
   "outputs": [],
   "source": [
    "indexx = []\n",
    "for i in range(len(grid_position)):\n",
    "    r1 = np.any(grid_position[i,:] == 0)\n",
    "    r2 = np.any(grid_position[i,:] == 511)\n",
    "    if r1 == True or r2 == True:\n",
    "        indexx.append(i)\n",
    "ind = np.array(indexx)\n",
    "GRID = np.delete(grid_position, ind, 0)\n",
    "del(grid_position)"
   ]
  },
  {
   "cell_type": "code",
   "execution_count": null,
   "metadata": {
    "collapsed": false
   },
   "outputs": [],
   "source": [
    "data = np.zeros((len(GRID),28), dtype = np.float16) # delta_DM, neighbors\n",
    "# For move in the 3D sub cube \n",
    "for m in range(len(GRID)): \n",
    "    x,y,z = GRID[m][0],GRID[m][1],GRID[m][2]\n",
    "    data[m] = np.concatenate(([deltas_DM[x][y][z]],(deltas_H[x-1:x+2,y-1:y+2,z-1:z+2]).reshape(27)))\n",
    "np.random.shuffle(data)                "
   ]
  },
  {
   "cell_type": "code",
   "execution_count": null,
   "metadata": {
    "collapsed": true
   },
   "outputs": [],
   "source": [
    "np.savetxt('RANDOM_SAMPLE.txt', data, fmt = '%.5f')    # Save data array on a file"
   ]
  },
  {
   "cell_type": "code",
   "execution_count": null,
   "metadata": {
    "collapsed": false
   },
   "outputs": [],
   "source": [
    "# Neighbors data and DM data center\n",
    "data = np.zeros((100**3,29)) # True/False, delta_DM, neighbors"
   ]
  },
  {
   "cell_type": "code",
   "execution_count": 8,
   "metadata": {
    "collapsed": false,
    "scrolled": true
   },
   "outputs": [
    {
     "name": "stdout",
     "output_type": "stream",
     "text": [
      "--- 186.846726s: loaded ---\n"
     ]
    }
   ],
   "source": [
    "# SELECCION DE LOS DATOS DE PRUEBA \n",
    "start_time = time.time()\n",
    "x,y,z= 100,100,100\n",
    "tam = 200 # Sub cube of side tam\n",
    "sub_arrayH = deltas_H[x:x+tam,y:y+tam,z:z+tam]\n",
    "sub_arrayDM = deltas_DM[x:x+tam,y:y+tam,z:z+tam] # Save all data in the sub cube\n",
    "arr = np.zeros((tam,tam,tam), dtype = bool)\n",
    "#arr2 = np.zeros((tam,tam,tam), dtype = bool)\n",
    "#arr3 = np.zeros((tam,tam,tam), dtype = bool)\n",
    "i = 0 \n",
    "\n",
    "# For move in the 3D sub cube \n",
    "for m1 in xrange(tam): \n",
    "    for m2 in xrange(tam):\n",
    "        for m3 in xrange(tam):\n",
    "                \n",
    "                p1,p2,p3 = m1 + x, m2 + y, m3 + z \n",
    "                arr[m1][m2][m3] = np.all(deltas_H[p1-1:p1+2,p2-1:p2+2,p3-1:p3+2] <= sub_arrayH[m1][m2][m3])  \n",
    "                #arr2[m1][m2][m3] = np.median([deltas_H[p1-1][p2-1][p3-1], deltas_H[p1][p2-1][p3-1],deltas_H[p1+1][p2-1][p3-1],deltas_H[p1-1][p2][p3-1],deltas_H[p1][p2][p3-1],deltas_H[p1+1][p2][p3-1],deltas_H[p1-1][p2+1][p3-1],deltas_H[p1][p2+1][p3-1],deltas_H[p1+1][p2+1][p3-1],deltas_H[p1-1][p2-1][p3],deltas_H[p1][p2-1][p3],deltas_H[p1+1][p2-1][p3],deltas_H[p1-1][p2][p3],deltas_H[p1+1][p2][p3],deltas_H[p1-1][p2+1][p3],deltas_H[p1][p2+1][p3],deltas_H[p1+1][p2+1][p3],deltas_H[p1-1][p2-1][p3+1],deltas_H[p1][p2-1][p3+1],deltas_H[p1+1][p2-1][p3+1],deltas_H[p1-1][p2][p3+1],deltas_H[p1][p2][p3+1],deltas_H[p1+1][p2][p3+1],deltas_H[p1-1][p2+1][p3+1],deltas_H[p1][p2+1][p3+1],deltas_H[p1+1][p2+1][p3+1]]) < sub_arrayH[m1][m2][m3]\n",
    "                #arr3[m1][m2][m3] = np.median(deltas_H[p1-1:p1+2,p2-1:p2+2,p3-1:p3+2]) < sub_arrayH[m1][m2][m3]\n",
    "                #data[i] = np.concatenate(([(arr[m1][m2][m3]).astype(int)],[sub_arrayDM[m1][m2][m3]],(deltas_H[p1-1:p1+2,p2-1:p2+2,p3-1:p3+2]).reshape(27)))\n",
    "                #DM_data[i] = sub_arrayDM[m1][m2][m3]\n",
    "                #i += 1\n",
    "                \n",
    "print(\"--- %3fs: loaded ---\" % (time.time() - start_time))"
   ]
  },
  {
   "cell_type": "code",
   "execution_count": null,
   "metadata": {
    "collapsed": false
   },
   "outputs": [],
   "source": [
    "start_time = time.time()\n",
    "ini = 200\n",
    "tam = 200 # Sub cube of side tam\n",
    "sub_arrayH = deltas_H[ini:ini+tam,ini:ini+tam,ini:ini+tam]\n",
    "sub_arrayDM = deltas_DM[ini:ini+tam,ini:ini+tam,ini:ini+tam] # Save all data in the sub cube\n",
    "count = 0\n",
    "\n",
    "for m1 in xrange(tam): \n",
    "    for m2 in xrange(tam):\n",
    "        for m3 in xrange(tam):\n",
    "                \n",
    "            p1,p2,p3 = m1 + ini, m2 + ini, m3 + ini \n",
    "            r = np.all(deltas_H[p1-1:p1+2,p2-1:p2+2,p3-1:p3+2] <= sub_arrayH[m1][m2][m3])  \n",
    "            if r == False:\n",
    "                continue\n",
    "            count += 1\n",
    "            \n",
    "print count\n",
    "print(\"--- %3fs: loaded ---\" % (time.time() - start_time))"
   ]
  },
  {
   "cell_type": "code",
   "execution_count": null,
   "metadata": {
    "collapsed": false
   },
   "outputs": [],
   "source": [
    "data_True = np.zeros((count,29), dtype = np.float16)\n",
    "start_time = time.time()\n",
    "ini = 200\n",
    "tam = 200 # Sub cube of side tam\n",
    "sub_arrayH = deltas_H[ini:ini+tam,ini:ini+tam,ini:ini+tam]\n",
    "sub_arrayDM = deltas_DM[ini:ini+tam,ini:ini+tam,ini:ini+tam]\n",
    "i = 0\n",
    "\n",
    "for m1 in xrange(tam): \n",
    "    for m2 in xrange(tam):\n",
    "        for m3 in xrange(tam):\n",
    "                \n",
    "            p1,p2,p3 = m1 + ini, m2 + ini, m3 + ini \n",
    "            r = np.all(deltas_H[p1-1:p1+2,p2-1:p2+2,p3-1:p3+2] <= sub_arrayH[m1][m2][m3])  \n",
    "            if r == False:\n",
    "                continue\n",
    "            data_True[i] =  np.concatenate(([1],[sub_arrayDM[m1][m2][m3]],(deltas_H[p1-1:p1+2,p2-1:p2+2,p3-1:p3+2]).reshape(27)))\n",
    "            i += 1\n",
    "            \n",
    "print(\"--- %3fs: loaded ---\" % (time.time() - start_time))            "
   ]
  },
  {
   "cell_type": "code",
   "execution_count": null,
   "metadata": {
    "collapsed": false
   },
   "outputs": [],
   "source": [
    "index = []\n",
    "for i in range(len(data)):\n",
    "    r = data[i][0] == 1\n",
    "    if r == True:\n",
    "        index.append(i)\n",
    "ind = np.array(index)\n",
    "data = np.delete(data,ind,0)\n",
    "data = data[:(300000-count)]\n",
    "\n",
    "index = []\n",
    "for i in range(len(data)):\n",
    "    r = np.any(data[i,2:] < 0)\n",
    "    if r == True:\n",
    "        index.append(i)\n",
    "ind = np.array(index)\n",
    "data_False = np.delete(data,ind,0)"
   ]
  },
  {
   "cell_type": "code",
   "execution_count": null,
   "metadata": {
    "collapsed": true
   },
   "outputs": [],
   "source": [
    "index = []\n",
    "for i in range(len(data_True)):\n",
    "    r = np.any(data_True[i,2:] < 0)\n",
    "    if r == True:\n",
    "        index.append(i)\n",
    "ind = np.array(index)\n",
    "data_True = np.delete(data_True,ind,0)"
   ]
  },
  {
   "cell_type": "code",
   "execution_count": null,
   "metadata": {
    "collapsed": true
   },
   "outputs": [],
   "source": [
    "DATA = np.concatenate((data_False, data_True))"
   ]
  },
  {
   "cell_type": "code",
   "execution_count": null,
   "metadata": {
    "collapsed": false
   },
   "outputs": [],
   "source": [
    "start_time = time.time()\n",
    "formatt = []\n",
    "formatt.append('%i')\n",
    "for i in range(28):\n",
    "    formatt.append('%.5f')\n",
    "np.savetxt('TEST_DELTASS.txt', DATA, fmt = formatt)    # Save data array on a file\n",
    "print(\"--- %3fs: loaded ---\" % (time.time() - start_time))"
   ]
  },
  {
   "cell_type": "code",
   "execution_count": 9,
   "metadata": {
    "collapsed": false,
    "scrolled": false
   },
   "outputs": [],
   "source": [
    "# ===================================================== PLOTS ============================================================\n",
    "start_time = time.time()\n",
    "\n",
    "#import random\n",
    "#ini = 100\n",
    "#tam = 100 # Sub cube of side tam\n",
    "#sub_arrayH = deltas_H[ini:ini+tam,ini:ini+tam,ini:ini+tam]\n",
    "#sub_arrayDM = deltas_DM[ini:ini+tam,ini:ini+tam,ini:ini+tam]\n",
    "\n",
    "#List1 = random.sample(range(len(sub_arrayH[arr == True])),3000)\n",
    "#List2 = random.sample(range(len(sub_arrayH[arr == False])),3000)\n",
    "\n",
    "import matplotlib.pyplot as plt\n",
    "\n",
    "delta_DM_True = np.array(sub_arrayDM[arr == True])#[List1]\n",
    "delta_H_True = np.array(sub_arrayH[arr == True])#[List1]\n",
    "\n",
    "delta_DM_False = np.array(sub_arrayDM[arr == False])#[List2]\n",
    "delta_H_False = np.array(sub_arrayH[arr == False])#[List2]"
   ]
  },
  {
   "cell_type": "code",
   "execution_count": 10,
   "metadata": {
    "collapsed": false
   },
   "outputs": [],
   "source": [
    "maxval, minval = 20, sub_arrayDM.min()\n",
    "num_bins,num_bins_errorbar = 150,20\n",
    "delta,delta_errobar = (maxval-minval) / num_bins , (maxval - minval) / num_bins_errorbar\n",
    "i,l  = 0,0\n",
    "\n",
    "labels_True = ToClass(delta_DM_True, num_bins, minval, maxval)\n",
    "labels_False = ToClass(delta_DM_False, num_bins, minval, maxval)\n",
    "#labels_True_errobar = ToClass(delta_DM_False, num_bins_errorbar, minval, maxval)\n",
    "#labels_False_errobar = ToClass(delta_DM_False, num_bins_errorbar, minval, maxval)\n",
    "bin_list_True = []\n",
    "bin_list_False = []\n",
    "\n",
    "while i < num_bins:\n",
    "    r = np.any(labels_True == i)\n",
    "    if r == True:\n",
    "        bin_list_True.append(i)\n",
    "    i += 1    \n",
    "    \n",
    "while l < num_bins:\n",
    "    r = np.any(labels_False == l)\n",
    "    if r == True:\n",
    "        bin_list_False.append(l)\n",
    "    l += 1    \n",
    "\n",
    "bin_list_errobar_T = [k+1 for k in np.arange(0,num_bins,5)]\n",
    "bin_list_errobar_F = [k+3 for k in np.arange(0,num_bins,5)]\n",
    "    \n",
    "a_0 = minval + delta/2\n",
    "bins_True = np.array([ a_0 + delta*n for n in bin_list_True])\n",
    "bins_False = np.array([ a_0 + delta*n for n in bin_list_False])\n",
    "median_True = np.array([np.median((delta_H_True[labels_True == y])) for y in bin_list_True])\n",
    "median_False = np.array([np.median((delta_H_False[labels_False == u])) for u in bin_list_False])\n",
    "running_err_down_T    = [(np.sort(delta_H_True[labels_True == k]))[(len(delta_H_True[labels_True == k]))/5] for k in bin_list_errobar_T]\n",
    "running_err_up_T      = [(np.sort(delta_H_True[labels_True == l]))[(4*len(delta_H_True[labels_True == l]))/5] for l in bin_list_errobar_T] \n",
    "running_err_down_F   = [(np.sort(delta_H_False[labels_False == k]))[(len(delta_H_False[labels_False == k]))/5] for k in bin_list_errobar_F]\n",
    "running_err_up_F      = [(np.sort(delta_H_False[labels_False == l]))[(4*len(delta_H_False[labels_False == l]))/5] for l in bin_list_errobar_F] \n",
    "#np.savetxt('Median_T_10.txt',np.array([bins_True,median_True]).T, fmt = ['%.5f','%.5f'])\n",
    "#np.savetxt('Median_F_10.txt',np.array([bins_False,median_False]).T, fmt = ['%.5f','%.5f'])"
   ]
  },
  {
   "cell_type": "code",
   "execution_count": 11,
   "metadata": {
    "collapsed": true
   },
   "outputs": [],
   "source": [
    "import random\n",
    "List1 = random.sample(range(len(delta_DM_False)),2000)\n",
    "List2 = random.sample(range(len(delta_DM_True)),2000)"
   ]
  },
  {
   "cell_type": "code",
   "execution_count": 22,
   "metadata": {
    "collapsed": false
   },
   "outputs": [],
   "source": [
    "plt.figure()\n",
    "plt.plot(delta_DM_False[List1], delta_H_False[List1],'bo',alpha =.15, label =r\"$ \\delta_i > \\delta_c$\", markersize = 3.0)\n",
    "plt.plot(delta_DM_True[List2], delta_H_True[List2],'ro',alpha =.15, label =r\"$ \\{\\delta_i\\} < \\delta_c$\", markersize = 3.0)\n",
    "plt.xlabel(r\"$\\delta_{DM} + 1 $\", fontsize = 16)\n",
    "plt.ylabel(r\"$\\delta_{H} + 1 $\", fontsize = 16) # '#00FF00'\n",
    "plt.axis([0,10,0,10])\n",
    "#plt.text(4.5, 3, r\"Medians were adjust with $8*10^6$ overdensities\", style='italic')\n",
    "plt.title(r\"Overdensity relations\", fontsize = 16)\n",
    "plt.plot(bins_True,median_True,color='red',linestyle = '-',lw=2.5,alpha=.7,label = r\"Median $\\left(\\{\\delta_i\\}<\\delta_c\\right)$\") \n",
    "plt.plot(bins_False,median_False,linestyle = '-',lw=2.5,alpha=.7,color = 'blue',label = r\"Median $\\left(\\delta_i > \\delta_c\\right)$\") \n",
    "plt.errorbar(bins_True[bin_list_errobar_T],median_True[bin_list_errobar_T], yerr = [median_True[bin_list_errobar_T]-running_err_down_T,running_err_up_T-median_True[bin_list_errobar_T]],alpha = .8, fmt = None, elinewidth = 1.5, ecolor = 'red')\n",
    "plt.errorbar(bins_False[bin_list_errobar_F],median_False[bin_list_errobar_F], yerr = [median_False[bin_list_errobar_F]-running_err_down_F,running_err_up_F-median_False[bin_list_errobar_F]],alpha = .8, fmt = None, elinewidth = 1.5, ecolor = 'blue')\n",
    "#plt.errorbar(bins,median, yerr = [median-running_err_down,running_err_up-median],alpha = 1.0, fmt = None, elinewidth = 1.2, ecolor = '#20b2aa')\n",
    "pylab.legend(loc='lower right',frameon=True, prop={'size':14})\n",
    "plt.show()"
   ]
  },
  {
   "cell_type": "code",
   "execution_count": null,
   "metadata": {
    "collapsed": true
   },
   "outputs": [],
   "source": [
    "# ===================================================== PLOTS ============================================================\n",
    "start_time = time.time()\n",
    "import random\n",
    "sub_arrayH = deltas_H[100:200,100:200,100:200]\n",
    "sub_arrayDM = deltas_DM[100:200,100:200,100:200]\n",
    "#print (sub_arrayH[a1])[0:len(sub_arrayH[a1])]\n",
    "#print sub_arrayH[a1]\n",
    "\n",
    "#List1 = random.sample(range(len(sub_arrayH[arr == True])),3000)\n",
    "#List2 = random.sample(range(len(sub_arrayH[arr == False])),3000)\n",
    "\n",
    "import matplotlib.pyplot as plt\n",
    "\n",
    "X1 = np.array(sub_arrayDM[arr == True])#[List1]\n",
    "Y1 = np.array(sub_arrayH[arr == True])#[List1]\n",
    "\n",
    "X2 = np.array(sub_arrayDM[arr == False])#[List2]\n",
    "Y2 = np.array(sub_arrayH[arr == False])#[List2]\n",
    "\n",
    "#print len(X1), len(X2)\n",
    "\n",
    "\n",
    "total_bins = 10\n",
    "#\"\"\"\n",
    "plt.figure()\n",
    "plt.plot(X1,Y1,'bo',alpha =.2, label =r\"$\\delta_i < \\delta_c$\", markersize = 3.0) # True\n",
    "#plt.plot(X2,Y2,'ro',alpha =.2, label = r\"$\\{\\delta_i\\} > \\delta_c$\", markersize = 3.0) # False\n",
    "plt.xlabel(r\"$\\delta_{DM}$\", fontsize = 18)\n",
    "plt.ylabel(r\"$\\delta_H$\", fontsize = 18)\n",
    "plt.axis([-1,10,-1,50])\n",
    "\n",
    "bins1 = np.linspace(X1.min(),10, total_bins, endpoint = False)\n",
    "delta1 = bins1[1]-bins1[0]\n",
    "idx1  = np.digitize(X1,bins1)\n",
    "#print Y1[idx == 6]\n",
    "#print [np.median(Y1[idx == k]) for k in range(1,10)]\n",
    "median1 = np.array([np.median(Y1[idx1 == k]) for k in range(1,total_bins+1)]) \n",
    "running_err1_down    = [(np.sort(Y1[idx1 == k]))[(len(Y1[idx1 == k]))/5] for k in range(1,total_bins+1)]\n",
    "running_err1_up      = [(np.sort(Y1[idx1 == k]))[(4*len(Y1[idx1 == k]))/5] for k in range(1,total_bins+1)]\n",
    "\n",
    "#print len(running_err1)\n",
    "\n",
    "#bins2 = np.linspace(X2.min(),30, total_bins, endpoint = False)\n",
    "#delta2 = bins2[1]-bins2[0]\n",
    "#idx2  = np.digitize(X2,bins2)\n",
    "#print Y1[idx == 6]\n",
    "#print [np.median(Y1[idx == k]) for k in range(1,10)]\n",
    "#median2 = np.array([np.median(Y2[idx2 == k]) for k in range(1,total_bins+1)])\n",
    "#running_err2    = [[(np.sort(Y2[idx2 == k]))[(len(Y2[idx2 == k]))/5],(np.sort(Y2[idx2 == k]))[4*(len(Y2[idx2 == k]))/5]] for k in range(1,total_bins+1)]\n",
    "\n",
    "plt.plot(bins1+delta1/2,median1,color='cyan',linestyle = '--',lw=2,alpha=.9,label = r\"Median ($\\delta_i < \\delta_c$)\") # True\n",
    "plt.errorbar(bins1+delta1/2,median1, yerr = [running_err1_down-median1,median1-running_err1_up], fmt = None, ecolor = 'black')\n",
    "#plt.plot(bins2+delta2/2,median2,color='magenta',linestyle = '--' ,lw=2,alpha=.9,label = r\"Median ($\\{\\delta_i\\} > \\delta_c$)\") # False\n",
    "pylab.legend(loc='upper left',frameon=False, prop={'size':14})\n",
    "plt.show()\n",
    "\n",
    "del(sub_arrayH)\n",
    "del(sub_arrayDM)\n",
    "\n",
    "print(\"--- %3fs: loaded ---\" % (time.time() - start_time))\n",
    "#\"\"\"\n"
   ]
  },
  {
   "cell_type": "code",
   "execution_count": null,
   "metadata": {
    "collapsed": false,
    "scrolled": true
   },
   "outputs": [],
   "source": [
    "print (bins1+delta1/2)[0]\n",
    "print median1[0]\n",
    "print running_err1_down[0]\n",
    "print running_err1_up[0]"
   ]
  },
  {
   "cell_type": "code",
   "execution_count": null,
   "metadata": {
    "collapsed": false,
    "scrolled": true
   },
   "outputs": [],
   "source": [
    "np.savetxt('True_points.txt',  np.array([X1,Y1]).T,)\n",
    "np.savetxt('False_ points.txt', np.array([X2,Y2]).T)\n",
    "np.savetxt('True_ median.txt',  np.array([bins1,median1]).T)\n",
    "np.savetxt('False_ median.txt', np.array([bins2,median2]).T)"
   ]
  },
  {
   "cell_type": "code",
   "execution_count": null,
   "metadata": {
    "collapsed": false,
    "scrolled": false
   },
   "outputs": [],
   "source": [
    "A = np.random.rand(5,5)*10\n",
    "print A,'\\n'\n",
    "print A[1:3,1:3]\n",
    "B = np.all(A[1:3][1:3] < 7)\n",
    "print B, '\\n'\n",
    "#print np.all(B)"
   ]
  },
  {
   "cell_type": "code",
   "execution_count": null,
   "metadata": {
    "collapsed": true
   },
   "outputs": [],
   "source": [
    "\n",
    "# count data rows, to preallocate array\n",
    "f = open('DELTA_R_01.txt', 'rb')\n",
    "\n",
    "def count(f):\n",
    "    while 1:\n",
    "        block = f.read()\n",
    "        if not block:\n",
    "             break\n",
    "        yield block.count('\\n')\n",
    "\n",
    "linecount = sum(count(f))\n",
    "print '\\n%.3fs: file has %s rows' % (elapsed(), linecount)\n",
    "f.close()"
   ]
  },
  {
   "cell_type": "code",
   "execution_count": null,
   "metadata": {
    "collapsed": true
   },
   "outputs": [],
   "source": [
    "import random\n",
    "\n",
    "List = random.sample(range(1000000),10000)\n",
    "import matplotlib.pyplot as plt\n",
    "\n",
    "plt.plot(delta_J[List],delta_R[List],'ro')\n",
    "plt.xlabel(r\"$\\delta_J$\", fontsize = 18)\n",
    "plt.ylabel(r\"$\\delta_R$\", fontsize = 18)\n",
    "plt.axis([0,30,0,30])\n",
    "plt.show("
   ]
  },
  {
   "cell_type": "code",
   "execution_count": null,
   "metadata": {
    "collapsed": true
   },
   "outputs": [],
   "source": [
    "import random\n",
    "# ========= TEST ======================\n",
    "i,r1,r2 = 0,True,True\n",
    "while r1 == True and r2 == True and i < 10000:\n",
    "    \n",
    "    a = random.randrange(0,512)\n",
    "    b = random.randrange(0,512)\n",
    "    c = random.randrange(0,512)\n",
    "    \n",
    "    if deltas_DM[a][b][c] == delta_J[a + 512*b + (512**2)*c] and deltas_H[a][b][c] == delta_R[a + 512*b + (512**2)*c]:\n",
    "        i += 1\n",
    "        if i == 10000:\n",
    "            print \"OK!\"\n",
    "            \n"
   ]
  },
  {
   "cell_type": "code",
   "execution_count": null,
   "metadata": {
    "collapsed": false
   },
   "outputs": [],
   "source": [
    "A = np.random.rand(27).reshape((3,3,3))\n",
    "print A\n",
    "B = np.zeros(27)\n",
    "mask = np.ones(len(B), dtype=bool)\n",
    "mask[13] = False\n",
    "B = ((A[0:3,0:3,0:3]).reshape(27))[mask]\n",
    "print B\n",
    "\n"
   ]
  },
  {
   "cell_type": "code",
   "execution_count": null,
   "metadata": {
    "collapsed": true
   },
   "outputs": [],
   "source": [
    "# ======================================= HISTOGRAM DM DATA ==============================================================\n",
    "import matplotlib.mlab as mlab\n",
    "\n",
    "fig = plt.figure()\n",
    "\n",
    "num_bins = 500\n",
    "\n",
    "# the histogram of the data\n",
    "n, bins, patches = plt.hist(delta_J, num_bins,log = True, facecolor='blue', alpha=0.5)\n",
    "\n",
    "plt.xlabel(r\"$ 1 + \\delta_{H} $\", fontsize = 16)\n",
    "plt.ylabel(r\"N\", fontsize =16)\n",
    "plt.show()\n",
    "\n",
    "# r\"$\\log \\left( 1 + \\delta_{DM} \\right) $\"\n",
    "# Tweak spacing to prevent clipping of ylabel\n",
    "#plt.subplots_adjust(left=0.15)\n",
    "\n",
    "#plot_url = py.plot_mpl(fig, filename='docs/histogram-mpl-legend')"
   ]
  }
 ],
 "metadata": {
  "kernelspec": {
   "display_name": "Python 2",
   "language": "python",
   "name": "python2"
  },
  "language_info": {
   "codemirror_mode": {
    "name": "ipython",
    "version": 2
   },
   "file_extension": ".py",
   "mimetype": "text/x-python",
   "name": "python",
   "nbconvert_exporter": "python",
   "pygments_lexer": "ipython2",
   "version": "2.7.6"
  }
 },
 "nbformat": 4,
 "nbformat_minor": 0
}
